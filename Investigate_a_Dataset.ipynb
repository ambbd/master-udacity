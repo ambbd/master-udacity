{
 "cells": [
  {
   "cell_type": "markdown",
   "metadata": {},
   "source": [
    "# Project: Investigate a Dataset (Income per person (GDP/capita, PPP $ inflation-adjusted))\n",
    "\n",
    "\n",
    "## Table of Contents\n",
    "<ul>\n",
    "<li><a href=\"#intro\">Introduction</a></li>\n",
    "<li><a href=\"#wrangling\">Data Wrangling</a></li>\n",
    "<li><a href=\"#clean\">Data Cleaning</a></li>\n",
    "<li><a href=\"#eda\">Exploratory Data Analysis</a></li>\n",
    "<li><a href=\"#Limitations\">Limitations</a></li>\n",
    "<li><a href=\"#conclusions\">Conclusions</a></li>\n",
    "</ul>"
   ]
  },
  {
   "cell_type": "markdown",
   "metadata": {},
   "source": [
    "<a id='intro'></a>\n",
    "## Introduction\n",
    "\n",
    "> I have chosen to work with the dataset, *Income per person based on gross domestic product (GDP)*, which has been adjusted for purchasing power in international dollars. I chose to work with this dataset to analyze the standard of living in the United States in comparison to 3 other countries, track the trend of the adjusted *PPP dollars* over a period of time to observe any differences in the cost of living between the 3 countries. I will observe tracking the trends of growth in the U.S. over a particular time span, compare the United States growth to 3 other countries, and determine whether or not if the the rank of the U.S. falls higher or lower in the cost of living compared to the 3 other countries. "
   ]
  },
  {
   "cell_type": "markdown",
   "metadata": {},
   "source": [
    "> # 1. Import Packages #"
   ]
  },
  {
   "cell_type": "code",
   "execution_count": 3,
   "metadata": {},
   "outputs": [],
   "source": [
    "# Import libraries.\n",
    "\n",
    "import pandas as pd\n",
    "import matplotlib.pyplot as plt\n",
    "import numpy as np\n",
    "import seaborn as sns\n",
    "%matplotlib  inline\n"
   ]
  },
  {
   "cell_type": "markdown",
   "metadata": {},
   "source": [
    "> ## 1.a Load data into dataframe"
   ]
  },
  {
   "cell_type": "code",
   "execution_count": 4,
   "metadata": {},
   "outputs": [
    {
     "data": {
      "text/html": [
       "<div>\n",
       "<style scoped>\n",
       "    .dataframe tbody tr th:only-of-type {\n",
       "        vertical-align: middle;\n",
       "    }\n",
       "\n",
       "    .dataframe tbody tr th {\n",
       "        vertical-align: top;\n",
       "    }\n",
       "\n",
       "    .dataframe thead th {\n",
       "        text-align: right;\n",
       "    }\n",
       "</style>\n",
       "<table border=\"1\" class=\"dataframe\">\n",
       "  <thead>\n",
       "    <tr style=\"text-align: right;\">\n",
       "      <th></th>\n",
       "      <th>1800</th>\n",
       "      <th>1801</th>\n",
       "      <th>1802</th>\n",
       "      <th>1803</th>\n",
       "      <th>1804</th>\n",
       "      <th>1805</th>\n",
       "      <th>1806</th>\n",
       "      <th>1807</th>\n",
       "      <th>1808</th>\n",
       "      <th>1809</th>\n",
       "      <th>...</th>\n",
       "      <th>2031</th>\n",
       "      <th>2032</th>\n",
       "      <th>2033</th>\n",
       "      <th>2034</th>\n",
       "      <th>2035</th>\n",
       "      <th>2036</th>\n",
       "      <th>2037</th>\n",
       "      <th>2038</th>\n",
       "      <th>2039</th>\n",
       "      <th>2040</th>\n",
       "    </tr>\n",
       "    <tr>\n",
       "      <th>country</th>\n",
       "      <th></th>\n",
       "      <th></th>\n",
       "      <th></th>\n",
       "      <th></th>\n",
       "      <th></th>\n",
       "      <th></th>\n",
       "      <th></th>\n",
       "      <th></th>\n",
       "      <th></th>\n",
       "      <th></th>\n",
       "      <th></th>\n",
       "      <th></th>\n",
       "      <th></th>\n",
       "      <th></th>\n",
       "      <th></th>\n",
       "      <th></th>\n",
       "      <th></th>\n",
       "      <th></th>\n",
       "      <th></th>\n",
       "      <th></th>\n",
       "      <th></th>\n",
       "    </tr>\n",
       "  </thead>\n",
       "  <tbody>\n",
       "    <tr>\n",
       "      <th>Afghanistan</th>\n",
       "      <td>603</td>\n",
       "      <td>603</td>\n",
       "      <td>603</td>\n",
       "      <td>603</td>\n",
       "      <td>603</td>\n",
       "      <td>603</td>\n",
       "      <td>603</td>\n",
       "      <td>603</td>\n",
       "      <td>603</td>\n",
       "      <td>603</td>\n",
       "      <td>...</td>\n",
       "      <td>2550</td>\n",
       "      <td>2600</td>\n",
       "      <td>2660</td>\n",
       "      <td>2710</td>\n",
       "      <td>2770</td>\n",
       "      <td>2820</td>\n",
       "      <td>2880</td>\n",
       "      <td>2940</td>\n",
       "      <td>3000</td>\n",
       "      <td>3060</td>\n",
       "    </tr>\n",
       "    <tr>\n",
       "      <th>Albania</th>\n",
       "      <td>667</td>\n",
       "      <td>667</td>\n",
       "      <td>667</td>\n",
       "      <td>667</td>\n",
       "      <td>667</td>\n",
       "      <td>668</td>\n",
       "      <td>668</td>\n",
       "      <td>668</td>\n",
       "      <td>668</td>\n",
       "      <td>668</td>\n",
       "      <td>...</td>\n",
       "      <td>19400</td>\n",
       "      <td>19800</td>\n",
       "      <td>20200</td>\n",
       "      <td>20600</td>\n",
       "      <td>21000</td>\n",
       "      <td>21500</td>\n",
       "      <td>21900</td>\n",
       "      <td>22300</td>\n",
       "      <td>22800</td>\n",
       "      <td>23300</td>\n",
       "    </tr>\n",
       "    <tr>\n",
       "      <th>Algeria</th>\n",
       "      <td>715</td>\n",
       "      <td>716</td>\n",
       "      <td>717</td>\n",
       "      <td>718</td>\n",
       "      <td>719</td>\n",
       "      <td>720</td>\n",
       "      <td>721</td>\n",
       "      <td>722</td>\n",
       "      <td>723</td>\n",
       "      <td>724</td>\n",
       "      <td>...</td>\n",
       "      <td>14300</td>\n",
       "      <td>14600</td>\n",
       "      <td>14900</td>\n",
       "      <td>15200</td>\n",
       "      <td>15500</td>\n",
       "      <td>15800</td>\n",
       "      <td>16100</td>\n",
       "      <td>16500</td>\n",
       "      <td>16800</td>\n",
       "      <td>17100</td>\n",
       "    </tr>\n",
       "    <tr>\n",
       "      <th>Andorra</th>\n",
       "      <td>1200</td>\n",
       "      <td>1200</td>\n",
       "      <td>1200</td>\n",
       "      <td>1200</td>\n",
       "      <td>1210</td>\n",
       "      <td>1210</td>\n",
       "      <td>1210</td>\n",
       "      <td>1210</td>\n",
       "      <td>1220</td>\n",
       "      <td>1220</td>\n",
       "      <td>...</td>\n",
       "      <td>73600</td>\n",
       "      <td>75100</td>\n",
       "      <td>76700</td>\n",
       "      <td>78300</td>\n",
       "      <td>79900</td>\n",
       "      <td>81500</td>\n",
       "      <td>83100</td>\n",
       "      <td>84800</td>\n",
       "      <td>86500</td>\n",
       "      <td>88300</td>\n",
       "    </tr>\n",
       "    <tr>\n",
       "      <th>Angola</th>\n",
       "      <td>618</td>\n",
       "      <td>620</td>\n",
       "      <td>623</td>\n",
       "      <td>626</td>\n",
       "      <td>628</td>\n",
       "      <td>631</td>\n",
       "      <td>634</td>\n",
       "      <td>637</td>\n",
       "      <td>640</td>\n",
       "      <td>642</td>\n",
       "      <td>...</td>\n",
       "      <td>6110</td>\n",
       "      <td>6230</td>\n",
       "      <td>6350</td>\n",
       "      <td>6480</td>\n",
       "      <td>6610</td>\n",
       "      <td>6750</td>\n",
       "      <td>6880</td>\n",
       "      <td>7020</td>\n",
       "      <td>7170</td>\n",
       "      <td>7310</td>\n",
       "    </tr>\n",
       "  </tbody>\n",
       "</table>\n",
       "<p>5 rows × 241 columns</p>\n",
       "</div>"
      ],
      "text/plain": [
       "             1800  1801  1802  1803  1804  1805  1806  1807  1808  1809  \\\n",
       "country                                                                   \n",
       "Afghanistan   603   603   603   603   603   603   603   603   603   603   \n",
       "Albania       667   667   667   667   667   668   668   668   668   668   \n",
       "Algeria       715   716   717   718   719   720   721   722   723   724   \n",
       "Andorra      1200  1200  1200  1200  1210  1210  1210  1210  1220  1220   \n",
       "Angola        618   620   623   626   628   631   634   637   640   642   \n",
       "\n",
       "             ...     2031   2032   2033   2034   2035   2036   2037   2038  \\\n",
       "country      ...                                                             \n",
       "Afghanistan  ...     2550   2600   2660   2710   2770   2820   2880   2940   \n",
       "Albania      ...    19400  19800  20200  20600  21000  21500  21900  22300   \n",
       "Algeria      ...    14300  14600  14900  15200  15500  15800  16100  16500   \n",
       "Andorra      ...    73600  75100  76700  78300  79900  81500  83100  84800   \n",
       "Angola       ...     6110   6230   6350   6480   6610   6750   6880   7020   \n",
       "\n",
       "              2039   2040  \n",
       "country                    \n",
       "Afghanistan   3000   3060  \n",
       "Albania      22800  23300  \n",
       "Algeria      16800  17100  \n",
       "Andorra      86500  88300  \n",
       "Angola        7170   7310  \n",
       "\n",
       "[5 rows x 241 columns]"
      ]
     },
     "execution_count": 4,
     "metadata": {},
     "output_type": "execute_result"
    }
   ],
   "source": [
    "# Dataset is now loaded into data frame and indexed by column, 'country'\n",
    "\n",
    "df = pd.read_csv(r'income_per_person_gdppercapita_ppp_inflation_adjusted.csv',sep=',',index_col='country')\n",
    "\n",
    "df.head()\n"
   ]
  },
  {
   "cell_type": "markdown",
   "metadata": {},
   "source": [
    "In my results of loading the dataset, I returned the first 5 rows from the loaded *income_per_person_gdppercapita_ppp_inflation_adjusted.csv* file into a pandas dataframe which was saved into a variable named *df*. While loading in the raw file into the pandas dataframe, I passed in the argument of *sep=','* because I noticed the file was comma delimited. I also passed in another argument, *index_column='country'* because I intended use the field *country* as the dataframe index."
   ]
  },
  {
   "cell_type": "markdown",
   "metadata": {},
   "source": [
    "<a id='wrangling'></a>\n",
    "\n",
    " # 2.Data Wrangling #"
   ]
  },
  {
   "cell_type": "code",
   "execution_count": 6,
   "metadata": {},
   "outputs": [
    {
     "name": "stdout",
     "output_type": "stream",
     "text": [
      "<class 'pandas.core.frame.DataFrame'>\n",
      "Index: 193 entries, Afghanistan to Zimbabwe\n",
      "Columns: 241 entries, 1800 to 2040\n",
      "dtypes: int64(241)\n",
      "memory usage: 364.9+ KB\n",
      "None\n"
     ]
    }
   ],
   "source": [
    "# After loading dataset, to create a dataframe,I print out the summary of the data frame.\n",
    "\n",
    "\n",
    "print(df.info())"
   ]
  },
  {
   "cell_type": "markdown",
   "metadata": {},
   "source": [
    "The reason I chose to print the dataframe information was to give insight into key attributes about the data, including:\n",
    "- Data type\n",
    "- Field/Row Count (shape of dataframe)\n",
    "- Row range (Afghanistan to Zimbabwe)\n",
    "- Field range (1800 to 2040)\n",
    "\n",
    "    "
   ]
  },
  {
   "cell_type": "markdown",
   "metadata": {},
   "source": [
    ">## 2.a  Feature Selection ##\n",
    "\n",
    ">**After rendering dataframe, listed below are the dependent and independent variables I have chosen to analyze;**\n",
    "\n",
    ">#### Dependent variable\n",
    "- United States \n",
    "\n",
    ">#### Independent variables:\n",
    "- United Arab Emirates\n",
    "- Nigeria\n",
    "- United Kingdom\n"
   ]
  },
  {
   "cell_type": "code",
   "execution_count": 14,
   "metadata": {},
   "outputs": [
    {
     "data": {
      "text/html": [
       "<div>\n",
       "<style scoped>\n",
       "    .dataframe tbody tr th:only-of-type {\n",
       "        vertical-align: middle;\n",
       "    }\n",
       "\n",
       "    .dataframe tbody tr th {\n",
       "        vertical-align: top;\n",
       "    }\n",
       "\n",
       "    .dataframe thead th {\n",
       "        text-align: right;\n",
       "    }\n",
       "</style>\n",
       "<table border=\"1\" class=\"dataframe\">\n",
       "  <thead>\n",
       "    <tr style=\"text-align: right;\">\n",
       "      <th></th>\n",
       "      <th>1800</th>\n",
       "      <th>1801</th>\n",
       "      <th>1802</th>\n",
       "      <th>1803</th>\n",
       "      <th>1804</th>\n",
       "      <th>1805</th>\n",
       "      <th>1806</th>\n",
       "      <th>1807</th>\n",
       "      <th>1808</th>\n",
       "      <th>1809</th>\n",
       "      <th>...</th>\n",
       "      <th>2031</th>\n",
       "      <th>2032</th>\n",
       "      <th>2033</th>\n",
       "      <th>2034</th>\n",
       "      <th>2035</th>\n",
       "      <th>2036</th>\n",
       "      <th>2037</th>\n",
       "      <th>2038</th>\n",
       "      <th>2039</th>\n",
       "      <th>2040</th>\n",
       "    </tr>\n",
       "    <tr>\n",
       "      <th>country</th>\n",
       "      <th></th>\n",
       "      <th></th>\n",
       "      <th></th>\n",
       "      <th></th>\n",
       "      <th></th>\n",
       "      <th></th>\n",
       "      <th></th>\n",
       "      <th></th>\n",
       "      <th></th>\n",
       "      <th></th>\n",
       "      <th></th>\n",
       "      <th></th>\n",
       "      <th></th>\n",
       "      <th></th>\n",
       "      <th></th>\n",
       "      <th></th>\n",
       "      <th></th>\n",
       "      <th></th>\n",
       "      <th></th>\n",
       "      <th></th>\n",
       "      <th></th>\n",
       "    </tr>\n",
       "  </thead>\n",
       "  <tbody>\n",
       "    <tr>\n",
       "      <th>United States</th>\n",
       "      <td>1980</td>\n",
       "      <td>2020</td>\n",
       "      <td>2050</td>\n",
       "      <td>2020</td>\n",
       "      <td>2010</td>\n",
       "      <td>2060</td>\n",
       "      <td>2090</td>\n",
       "      <td>2110</td>\n",
       "      <td>1970</td>\n",
       "      <td>2060</td>\n",
       "      <td>...</td>\n",
       "      <td>66800</td>\n",
       "      <td>68100</td>\n",
       "      <td>69500</td>\n",
       "      <td>70900</td>\n",
       "      <td>72300</td>\n",
       "      <td>73800</td>\n",
       "      <td>75300</td>\n",
       "      <td>76800</td>\n",
       "      <td>78400</td>\n",
       "      <td>80000</td>\n",
       "    </tr>\n",
       "    <tr>\n",
       "      <th>United Arab Emirates</th>\n",
       "      <td>998</td>\n",
       "      <td>1000</td>\n",
       "      <td>1010</td>\n",
       "      <td>1010</td>\n",
       "      <td>1010</td>\n",
       "      <td>1020</td>\n",
       "      <td>1020</td>\n",
       "      <td>1020</td>\n",
       "      <td>1030</td>\n",
       "      <td>1030</td>\n",
       "      <td>...</td>\n",
       "      <td>66800</td>\n",
       "      <td>68100</td>\n",
       "      <td>69400</td>\n",
       "      <td>70800</td>\n",
       "      <td>72200</td>\n",
       "      <td>73700</td>\n",
       "      <td>75200</td>\n",
       "      <td>76700</td>\n",
       "      <td>78300</td>\n",
       "      <td>79900</td>\n",
       "    </tr>\n",
       "    <tr>\n",
       "      <th>Nigeria</th>\n",
       "      <td>851</td>\n",
       "      <td>853</td>\n",
       "      <td>854</td>\n",
       "      <td>856</td>\n",
       "      <td>857</td>\n",
       "      <td>859</td>\n",
       "      <td>860</td>\n",
       "      <td>862</td>\n",
       "      <td>864</td>\n",
       "      <td>865</td>\n",
       "      <td>...</td>\n",
       "      <td>5720</td>\n",
       "      <td>5830</td>\n",
       "      <td>5940</td>\n",
       "      <td>6060</td>\n",
       "      <td>6180</td>\n",
       "      <td>6310</td>\n",
       "      <td>6440</td>\n",
       "      <td>6570</td>\n",
       "      <td>6700</td>\n",
       "      <td>6840</td>\n",
       "    </tr>\n",
       "    <tr>\n",
       "      <th>United Kingdom</th>\n",
       "      <td>3280</td>\n",
       "      <td>3290</td>\n",
       "      <td>3300</td>\n",
       "      <td>3190</td>\n",
       "      <td>3140</td>\n",
       "      <td>3280</td>\n",
       "      <td>3220</td>\n",
       "      <td>3390</td>\n",
       "      <td>3190</td>\n",
       "      <td>3240</td>\n",
       "      <td>...</td>\n",
       "      <td>47200</td>\n",
       "      <td>48100</td>\n",
       "      <td>49100</td>\n",
       "      <td>50100</td>\n",
       "      <td>51100</td>\n",
       "      <td>52200</td>\n",
       "      <td>53200</td>\n",
       "      <td>54300</td>\n",
       "      <td>55400</td>\n",
       "      <td>56500</td>\n",
       "    </tr>\n",
       "  </tbody>\n",
       "</table>\n",
       "<p>4 rows × 241 columns</p>\n",
       "</div>"
      ],
      "text/plain": [
       "                      1800  1801  1802  1803  1804  1805  1806  1807  1808  \\\n",
       "country                                                                      \n",
       "United States         1980  2020  2050  2020  2010  2060  2090  2110  1970   \n",
       "United Arab Emirates   998  1000  1010  1010  1010  1020  1020  1020  1030   \n",
       "Nigeria                851   853   854   856   857   859   860   862   864   \n",
       "United Kingdom        3280  3290  3300  3190  3140  3280  3220  3390  3190   \n",
       "\n",
       "                      1809  ...     2031   2032   2033   2034   2035   2036  \\\n",
       "country                     ...                                               \n",
       "United States         2060  ...    66800  68100  69500  70900  72300  73800   \n",
       "United Arab Emirates  1030  ...    66800  68100  69400  70800  72200  73700   \n",
       "Nigeria                865  ...     5720   5830   5940   6060   6180   6310   \n",
       "United Kingdom        3240  ...    47200  48100  49100  50100  51100  52200   \n",
       "\n",
       "                       2037   2038   2039   2040  \n",
       "country                                           \n",
       "United States         75300  76800  78400  80000  \n",
       "United Arab Emirates  75200  76700  78300  79900  \n",
       "Nigeria                6440   6570   6700   6840  \n",
       "United Kingdom        53200  54300  55400  56500  \n",
       "\n",
       "[4 rows x 241 columns]"
      ]
     },
     "execution_count": 14,
     "metadata": {},
     "output_type": "execute_result"
    }
   ],
   "source": [
    "df_selected_features.head()"
   ]
  },
  {
   "cell_type": "code",
   "execution_count": 7,
   "metadata": {},
   "outputs": [],
   "source": [
    "# I've returned the column at level(0)\n",
    "df.columns = df.columns.get_level_values(0)"
   ]
  },
  {
   "cell_type": "markdown",
   "metadata": {},
   "source": [
    "After I loaded in the dataframe, I noticed the column had 2 levels (multi-index) so I proceeded in selecting the first level that contained the first index."
   ]
  },
  {
   "cell_type": "code",
   "execution_count": 31,
   "metadata": {},
   "outputs": [],
   "source": [
    "df_selected_features=  df.loc[['United States','United Arab Emirates','Nigeria','United Kingdom']]"
   ]
  },
  {
   "cell_type": "markdown",
   "metadata": {},
   "source": [
    "I created a new dataframe \"df_selected_features\" from my exisitng dataframe, and used the *.loc* method to filter out the 4 countries I want to do analysis on."
   ]
  },
  {
   "cell_type": "code",
   "execution_count": 32,
   "metadata": {},
   "outputs": [
    {
     "name": "stdout",
     "output_type": "stream",
     "text": [
      "check for null\n",
      "total null Values: 0\n",
      "\n",
      "\n",
      "check for isnan\n",
      "total isnan values: 0\n"
     ]
    }
   ],
   "source": [
    "# Check for empty values of null\n",
    "total_null = 0\n",
    "print('check for null')\n",
    "for i in df_selected_features.isnull().sum():\n",
    "    if i != 0:\n",
    "        total_null += 1\n",
    "print('total null Values:',total_null)\n",
    "        \n",
    "print('\\n')\n",
    "total_isnan = 0\n",
    "print('check for isnan')\n",
    "for i in df_selected_features.isna().sum():\n",
    "    if i != 0:\n",
    "        total_isnan += 1\n",
    "print('total isnan values:',total_isnan)"
   ]
  },
  {
   "cell_type": "markdown",
   "metadata": {},
   "source": [
    "I got a sum of each row that contained a value of *NULL* or *NAN* and decided to check the total count of *NULL* and *NAN* for the entire dataframe."
   ]
  },
  {
   "cell_type": "code",
   "execution_count": 37,
   "metadata": {},
   "outputs": [
    {
     "data": {
      "text/plain": [
       "array([False, False, False, False], dtype=bool)"
      ]
     },
     "execution_count": 37,
     "metadata": {},
     "output_type": "execute_result"
    }
   ],
   "source": [
    "# Check for any duplicate field or rows\n",
    "\n",
    "df_selected_features.columns.duplicated(keep='first')\n",
    "df_selected_features.index.duplicated(keep='first')\n",
    "\n",
    "#df_selected_features.head()"
   ]
  },
  {
   "cell_type": "markdown",
   "metadata": {},
   "source": [
    "I checked for duplicate columns and rows then selected the first field and dropped the duplicate."
   ]
  },
  {
   "cell_type": "markdown",
   "metadata": {},
   "source": [
    "> ## 2.b Transpose Data Frame\n",
    "\n",
    "> Now that I've selected my variables at level(0) based on country, I now want to do some further maipulation, and also transpose this dataset, by flipping country and year. In order to execute this action, I'll have to reset the index so that I can select the index myself.\n",
    "\n"
   ]
  },
  {
   "cell_type": "code",
   "execution_count": 38,
   "metadata": {},
   "outputs": [],
   "source": [
    "df_new = df_selected_features.transpose().reset_index()"
   ]
  },
  {
   "cell_type": "code",
   "execution_count": 39,
   "metadata": {},
   "outputs": [],
   "source": [
    "# rename field to represent correct description\n",
    "df_new.rename(mapper={'index':'Year'},inplace=True,axis=1)"
   ]
  },
  {
   "cell_type": "code",
   "execution_count": 40,
   "metadata": {},
   "outputs": [
    {
     "data": {
      "text/html": [
       "<div>\n",
       "<style scoped>\n",
       "    .dataframe tbody tr th:only-of-type {\n",
       "        vertical-align: middle;\n",
       "    }\n",
       "\n",
       "    .dataframe tbody tr th {\n",
       "        vertical-align: top;\n",
       "    }\n",
       "\n",
       "    .dataframe thead th {\n",
       "        text-align: right;\n",
       "    }\n",
       "</style>\n",
       "<table border=\"1\" class=\"dataframe\">\n",
       "  <thead>\n",
       "    <tr style=\"text-align: right;\">\n",
       "      <th>country</th>\n",
       "      <th>Year</th>\n",
       "      <th>United States</th>\n",
       "      <th>United Arab Emirates</th>\n",
       "      <th>Nigeria</th>\n",
       "      <th>United Kingdom</th>\n",
       "    </tr>\n",
       "  </thead>\n",
       "  <tbody>\n",
       "    <tr>\n",
       "      <th>0</th>\n",
       "      <td>1800</td>\n",
       "      <td>1980</td>\n",
       "      <td>998</td>\n",
       "      <td>851</td>\n",
       "      <td>3280</td>\n",
       "    </tr>\n",
       "    <tr>\n",
       "      <th>1</th>\n",
       "      <td>1801</td>\n",
       "      <td>2020</td>\n",
       "      <td>1000</td>\n",
       "      <td>853</td>\n",
       "      <td>3290</td>\n",
       "    </tr>\n",
       "    <tr>\n",
       "      <th>2</th>\n",
       "      <td>1802</td>\n",
       "      <td>2050</td>\n",
       "      <td>1010</td>\n",
       "      <td>854</td>\n",
       "      <td>3300</td>\n",
       "    </tr>\n",
       "    <tr>\n",
       "      <th>3</th>\n",
       "      <td>1803</td>\n",
       "      <td>2020</td>\n",
       "      <td>1010</td>\n",
       "      <td>856</td>\n",
       "      <td>3190</td>\n",
       "    </tr>\n",
       "    <tr>\n",
       "      <th>4</th>\n",
       "      <td>1804</td>\n",
       "      <td>2010</td>\n",
       "      <td>1010</td>\n",
       "      <td>857</td>\n",
       "      <td>3140</td>\n",
       "    </tr>\n",
       "  </tbody>\n",
       "</table>\n",
       "</div>"
      ],
      "text/plain": [
       "country  Year  United States  United Arab Emirates  Nigeria  United Kingdom\n",
       "0        1800           1980                   998      851            3280\n",
       "1        1801           2020                  1000      853            3290\n",
       "2        1802           2050                  1010      854            3300\n",
       "3        1803           2020                  1010      856            3190\n",
       "4        1804           2010                  1010      857            3140"
      ]
     },
     "execution_count": 40,
     "metadata": {},
     "output_type": "execute_result"
    }
   ],
   "source": [
    "df_new.head()"
   ]
  },
  {
   "cell_type": "markdown",
   "metadata": {},
   "source": [
    "In order for me to work with this data I had to move the years to the rows(index) and the country name to a column. I then renamed the index.name to years and this was saved into a new dataframe."
   ]
  },
  {
   "cell_type": "markdown",
   "metadata": {},
   "source": [
    " <a id='clean'></a>\n",
    " \n",
    " # 3. Load clean data #"
   ]
  },
  {
   "cell_type": "code",
   "execution_count": 41,
   "metadata": {},
   "outputs": [],
   "source": [
    "# saved cleaned dataset to file for future reference\n",
    "df_new.to_csv('cleaned_country_dataset.csv',header=True, index=False)"
   ]
  },
  {
   "cell_type": "code",
   "execution_count": 42,
   "metadata": {},
   "outputs": [],
   "source": [
    "# Read cleaned file into a variable\n",
    "df_country = pd.read_csv('cleaned_country_dataset.csv',index_col='Year')"
   ]
  },
  {
   "cell_type": "code",
   "execution_count": 43,
   "metadata": {},
   "outputs": [
    {
     "data": {
      "text/html": [
       "<div>\n",
       "<style scoped>\n",
       "    .dataframe tbody tr th:only-of-type {\n",
       "        vertical-align: middle;\n",
       "    }\n",
       "\n",
       "    .dataframe tbody tr th {\n",
       "        vertical-align: top;\n",
       "    }\n",
       "\n",
       "    .dataframe thead th {\n",
       "        text-align: right;\n",
       "    }\n",
       "</style>\n",
       "<table border=\"1\" class=\"dataframe\">\n",
       "  <thead>\n",
       "    <tr style=\"text-align: right;\">\n",
       "      <th></th>\n",
       "      <th>United States</th>\n",
       "      <th>United Arab Emirates</th>\n",
       "      <th>Nigeria</th>\n",
       "      <th>United Kingdom</th>\n",
       "    </tr>\n",
       "    <tr>\n",
       "      <th>Year</th>\n",
       "      <th></th>\n",
       "      <th></th>\n",
       "      <th></th>\n",
       "      <th></th>\n",
       "    </tr>\n",
       "  </thead>\n",
       "  <tbody>\n",
       "    <tr>\n",
       "      <th>1800</th>\n",
       "      <td>1980</td>\n",
       "      <td>998</td>\n",
       "      <td>851</td>\n",
       "      <td>3280</td>\n",
       "    </tr>\n",
       "    <tr>\n",
       "      <th>1801</th>\n",
       "      <td>2020</td>\n",
       "      <td>1000</td>\n",
       "      <td>853</td>\n",
       "      <td>3290</td>\n",
       "    </tr>\n",
       "    <tr>\n",
       "      <th>1802</th>\n",
       "      <td>2050</td>\n",
       "      <td>1010</td>\n",
       "      <td>854</td>\n",
       "      <td>3300</td>\n",
       "    </tr>\n",
       "    <tr>\n",
       "      <th>1803</th>\n",
       "      <td>2020</td>\n",
       "      <td>1010</td>\n",
       "      <td>856</td>\n",
       "      <td>3190</td>\n",
       "    </tr>\n",
       "    <tr>\n",
       "      <th>1804</th>\n",
       "      <td>2010</td>\n",
       "      <td>1010</td>\n",
       "      <td>857</td>\n",
       "      <td>3140</td>\n",
       "    </tr>\n",
       "  </tbody>\n",
       "</table>\n",
       "</div>"
      ],
      "text/plain": [
       "      United States  United Arab Emirates  Nigeria  United Kingdom\n",
       "Year                                                              \n",
       "1800           1980                   998      851            3280\n",
       "1801           2020                  1000      853            3290\n",
       "1802           2050                  1010      854            3300\n",
       "1803           2020                  1010      856            3190\n",
       "1804           2010                  1010      857            3140"
      ]
     },
     "execution_count": 43,
     "metadata": {},
     "output_type": "execute_result"
    }
   ],
   "source": [
    "df_country.head()"
   ]
  },
  {
   "cell_type": "markdown",
   "metadata": {},
   "source": [
    "<a id='eda'></a>\n",
    "## 4. Exploration Phase\n",
    "\n",
    "> For this part of the section, I will take what I've researched and ask the right questions that will drive towards comparing the cost of living with the United states to it's indpendent vatriables; U.A.E, Nigeria, and the United Kingdom. I will show representation of by visualizing relationships on a plotted chart. \n",
    "\n"
   ]
  },
  {
   "cell_type": "code",
   "execution_count": 44,
   "metadata": {},
   "outputs": [
    {
     "data": {
      "text/html": [
       "<div>\n",
       "<style scoped>\n",
       "    .dataframe tbody tr th:only-of-type {\n",
       "        vertical-align: middle;\n",
       "    }\n",
       "\n",
       "    .dataframe tbody tr th {\n",
       "        vertical-align: top;\n",
       "    }\n",
       "\n",
       "    .dataframe thead th {\n",
       "        text-align: right;\n",
       "    }\n",
       "</style>\n",
       "<table border=\"1\" class=\"dataframe\">\n",
       "  <thead>\n",
       "    <tr style=\"text-align: right;\">\n",
       "      <th></th>\n",
       "      <th>United States</th>\n",
       "      <th>United Arab Emirates</th>\n",
       "      <th>Nigeria</th>\n",
       "      <th>United Kingdom</th>\n",
       "    </tr>\n",
       "  </thead>\n",
       "  <tbody>\n",
       "    <tr>\n",
       "      <th>count</th>\n",
       "      <td>241.000000</td>\n",
       "      <td>241.000000</td>\n",
       "      <td>241.000000</td>\n",
       "      <td>241.000000</td>\n",
       "    </tr>\n",
       "    <tr>\n",
       "      <th>mean</th>\n",
       "      <td>19022.033195</td>\n",
       "      <td>27927.626556</td>\n",
       "      <td>2239.149378</td>\n",
       "      <td>14975.477178</td>\n",
       "    </tr>\n",
       "    <tr>\n",
       "      <th>std</th>\n",
       "      <td>20969.087119</td>\n",
       "      <td>44253.798654</td>\n",
       "      <td>1600.732068</td>\n",
       "      <td>14188.166103</td>\n",
       "    </tr>\n",
       "    <tr>\n",
       "      <th>min</th>\n",
       "      <td>1970.000000</td>\n",
       "      <td>998.000000</td>\n",
       "      <td>851.000000</td>\n",
       "      <td>3040.000000</td>\n",
       "    </tr>\n",
       "    <tr>\n",
       "      <th>25%</th>\n",
       "      <td>3350.000000</td>\n",
       "      <td>1210.000000</td>\n",
       "      <td>1060.000000</td>\n",
       "      <td>4930.000000</td>\n",
       "    </tr>\n",
       "    <tr>\n",
       "      <th>50%</th>\n",
       "      <td>8130.000000</td>\n",
       "      <td>1760.000000</td>\n",
       "      <td>1530.000000</td>\n",
       "      <td>7970.000000</td>\n",
       "    </tr>\n",
       "    <tr>\n",
       "      <th>75%</th>\n",
       "      <td>29500.000000</td>\n",
       "      <td>63500.000000</td>\n",
       "      <td>3060.000000</td>\n",
       "      <td>20700.000000</td>\n",
       "    </tr>\n",
       "    <tr>\n",
       "      <th>max</th>\n",
       "      <td>80000.000000</td>\n",
       "      <td>179000.000000</td>\n",
       "      <td>6840.000000</td>\n",
       "      <td>56500.000000</td>\n",
       "    </tr>\n",
       "  </tbody>\n",
       "</table>\n",
       "</div>"
      ],
      "text/plain": [
       "       United States  United Arab Emirates      Nigeria  United Kingdom\n",
       "count     241.000000            241.000000   241.000000      241.000000\n",
       "mean    19022.033195          27927.626556  2239.149378    14975.477178\n",
       "std     20969.087119          44253.798654  1600.732068    14188.166103\n",
       "min      1970.000000            998.000000   851.000000     3040.000000\n",
       "25%      3350.000000           1210.000000  1060.000000     4930.000000\n",
       "50%      8130.000000           1760.000000  1530.000000     7970.000000\n",
       "75%     29500.000000          63500.000000  3060.000000    20700.000000\n",
       "max     80000.000000         179000.000000  6840.000000    56500.000000"
      ]
     },
     "execution_count": 44,
     "metadata": {},
     "output_type": "execute_result"
    }
   ],
   "source": [
    "# Gather stats about the data\n",
    "df_country.describe()"
   ]
  },
  {
   "cell_type": "markdown",
   "metadata": {},
   "source": [
    "**Bi - variate Data**\n",
    "\n",
    "I used the method *describe* to get meaningful statistics for each variable (dependent and independent):\n",
    "- count\n",
    "- mean\n",
    "- Standard Deviation\n",
    "- min\n",
    "- max\n",
    "- Percentiles"
   ]
  },
  {
   "cell_type": "code",
   "execution_count": 51,
   "metadata": {},
   "outputs": [],
   "source": [
    "# give the pearson correlation of all variables\n",
    "df_correlation = df_country.corr()"
   ]
  },
  {
   "cell_type": "code",
   "execution_count": 55,
   "metadata": {},
   "outputs": [
    {
     "data": {
      "text/plain": [
       "Text(0.5,1,' Heatmap for income_per_person_gdppercapita_ppp_inflation_adjusted')"
      ]
     },
     "execution_count": 55,
     "metadata": {},
     "output_type": "execute_result"
    },
    {
     "data": {
      "image/png": "[encoded data removed]",
      "text/plain": [
       "<matplotlib.figure.Figure at 0x7fbcb34cbb38>"
      ]
     },
     "metadata": {
      "needs_background": "light"
     },
     "output_type": "display_data"
    }
   ],
   "source": [
    " \n",
    "ax = sns.heatmap(df_correlation, annot=True,cmap=\"YlGnBu\")\n",
    "ax.set_title(\" Heatmap for income_per_person_gdppercapita_ppp_inflation_adjusted\")"
   ]
  },
  {
   "cell_type": "markdown",
   "metadata": {},
   "source": [
    "This heatmap shows the correlation of the United States against the United Arab Emirates, Nigeria and the United Kingdom."
   ]
  },
  {
   "cell_type": "code",
   "execution_count": 57,
   "metadata": {
    "scrolled": true
   },
   "outputs": [],
   "source": [
    "# I filtered out the range from 1950-2020\n",
    "\n",
    "x = np.array(df_country.loc[1950:2020].index.astype(int)) "
   ]
  },
  {
   "cell_type": "code",
   "execution_count": 63,
   "metadata": {
    "scrolled": false
   },
   "outputs": [
    {
     "data": {
      "text/plain": [
       "Text(0.5,0,'Years')"
      ]
     },
     "execution_count": 63,
     "metadata": {},
     "output_type": "execute_result"
    },
    {
     "data": {
      "image/png": "[encoded data removed]",
      "text/plain": [
       "<matplotlib.figure.Figure at 0x7fbcb2fa71d0>"
      ]
     },
     "metadata": {
      "needs_background": "light"
     },
     "output_type": "display_data"
    }
   ],
   "source": [
    "# The line chart is now smooth and focuses on the year range I am interested in vizualizing.\n",
    "%matplotlib inline\n",
    "plt.figure(figsize=(16,10))\n",
    "\n",
    "plt.plot(x, df_country['United States'].loc[1950:2020])\n",
    "plt.plot(x, df_country['United Arab Emirates'].loc[1950:2020])\n",
    "plt.plot(x, df_country['United Kingdom'].loc[1950:2020])\n",
    "plt.plot(x, df_country['Nigeria'].loc[1950:2020])\n",
    "\n",
    "plt.legend(['United States', 'United Arab Emirates',\n",
    "            'United Kingdom', 'Nigeria'], loc='upper left')\n",
    "\n",
    "plt.title('income_per_person_gdppercapita_ppp_inflation_adjusted')\n",
    "plt.ylabel('Purchase Product Price ($)')\n",
    "plt.xlabel('Years')"
   ]
  },
  {
   "cell_type": "markdown",
   "metadata": {},
   "source": [
    "### Research Question 1\n",
    "\n",
    "What is the United States 5 year(2015-2020) average, 'PPP' compared to United Arab Emirates, Nigeria and United Kingdom. \n",
    "\n"
   ]
  },
  {
   "cell_type": "code",
   "execution_count": 64,
   "metadata": {},
   "outputs": [
    {
     "data": {
      "text/plain": [
       "United States           55200.000000\n",
       "United Arab Emirates    66183.333333\n",
       "Nigeria                  5401.666667\n",
       "United Kingdom          39933.333333\n",
       "dtype: float64"
      ]
     },
     "execution_count": 64,
     "metadata": {},
     "output_type": "execute_result"
    }
   ],
   "source": [
    "df_country.loc[2015:2020].mean()\n",
    "\n",
    "# The United States comes in second place, in comparison to the 3 other countries?"
   ]
  },
  {
   "cell_type": "markdown",
   "metadata": {},
   "source": [
    "### Research Question 2 \n",
    "\n",
    "Which country has a **high** correlation to the United States PPP (Product Purchasing Price)?"
   ]
  },
  {
   "cell_type": "code",
   "execution_count": 65,
   "metadata": {},
   "outputs": [
    {
     "name": "stdout",
     "output_type": "stream",
     "text": [
      "United Arab Emirates    0.720283\n",
      "Nigeria                 0.980491\n",
      "United Kingdom          0.998174\n",
      "Name: United States, dtype: float64\n",
      "\n",
      "\n",
      "Max: 0.998174322212\n"
     ]
    }
   ],
   "source": [
    "print(df_country.corr()[df_country.corr()['United States'] != 1.00]['United States'])\n",
    "print('\\n')\n",
    "print('Max:',df_country.corr()[df_country.corr()['United States'] != 1.00]['United States'].max())\n",
    "\n",
    "# I filtered out by 1 on the field - 'United States' to avoid comparing the U.S. to itself.\n",
    "\n",
    "#The United States has a high correlation to the United Kingdom."
   ]
  },
  {
   "cell_type": "markdown",
   "metadata": {},
   "source": [
    "### Research Question 3 \n",
    "\n",
    "Which country has the **lowest** correlation in comparison to the United States PPP (Product Purchasing Price)?"
   ]
  },
  {
   "cell_type": "code",
   "execution_count": 66,
   "metadata": {},
   "outputs": [
    {
     "name": "stdout",
     "output_type": "stream",
     "text": [
      "United Arab Emirates    0.720283\n",
      "Nigeria                 0.980491\n",
      "United Kingdom          0.998174\n",
      "Name: United States, dtype: float64\n",
      "\n",
      "\n",
      "Min: 0.720283079348\n"
     ]
    }
   ],
   "source": [
    "print(df_country.corr()[df_country.corr()['United States'] != 1.00]['United States'])\n",
    "print('\\n')\n",
    "print('Min:',df_country.corr()[df_country.corr()['United States'] != 1.00]['United States'].min())\n",
    "\n",
    "\n",
    "# I duplicated the above steps and modified my script to only include the 'Min.'\n"
   ]
  },
  {
   "cell_type": "markdown",
   "metadata": {},
   "source": [
    "### Research Question 4 \n",
    "\n",
    "What will be the United States 'PPP' Compounded Annual Growth Rate *(CAGR)* over 20 year (2000-2020) span?"
   ]
  },
  {
   "cell_type": "code",
   "execution_count": 67,
   "metadata": {},
   "outputs": [
    {
     "name": "stdout",
     "output_type": "stream",
     "text": [
      "ending_value:  57500\n",
      "begin_value:  45700\n",
      "number_of_years:  20\n",
      "CAGR:  1.15505306126\n"
     ]
    }
   ],
   "source": [
    "ending_value = df_country['United States'].loc[2020]\n",
    "print ('ending_value: ',ending_value)\n",
    "\n",
    "begin_value = df_country['United States'].loc[2000]\n",
    "print ('begin_value: ',begin_value)\n",
    "\n",
    "number_of_years = 2020 - 2000\n",
    "print ('number_of_years: ',number_of_years)\n",
    "\n",
    "CAGR = ((ending_value/begin_value)**(1/number_of_years))-1\n",
    "print ('CAGR: ',CAGR*100)\n",
    "\n",
    "# The United States saw a 1.15 Compunded Annual Growth Rate over a 20 year span from 2000-2020 "
   ]
  },
  {
   "cell_type": "markdown",
   "metadata": {},
   "source": [
    "<a id='limitations'></a>\n",
    "## Limitations\n"
   ]
  },
  {
   "cell_type": "markdown",
   "metadata": {},
   "source": [
    "There were a few limitations I faced, including the following:\n",
    "    \n",
    "- When plotting I only plotted from a range between 1950 to 2020.\n",
    "- I smoothed out the data to be more meaningful by selecting a date range between 2000-2020 to plot on the line chart."
   ]
  },
  {
   "cell_type": "markdown",
   "metadata": {},
   "source": [
    "<a id='conclusions'></a>\n",
    "## Conclusions"
   ]
  },
  {
   "cell_type": "markdown",
   "metadata": {},
   "source": [
    "\n",
    "\n",
    "> I found it most interesting viewing the United Arab Emirates's PPP, solely due to the growth spurt plotted in mychart, so I will discuss my findings with the U.A.E first. Based on my observation, I found that 75%tile of the United Arab Emirates, *PPP* falls within the range of 998.00 to 63500.00. The U.A.E had an exponential growth spurt of *PPP* that surpassed the U.S. starting from the year, *1967*, and between *1979-1982*, the U.A.E saw its maximum *PPP* at 179000.00. Now, let's discuss some correlations I continued to evaluate from the Income per person (GDP/capita, PPP $ inflation-adjusted) Dataset from a range oof, **1950-2020**. I noticed very quickly, The United States plots slightly above the United Kingdom from 1950-2020. However, there is a similar pattern of steady, PPP growth amongst the two .This would explain why the UK has a similar standard of living per person, as the U.S. with The UK coming in with a highest rank of correlation to the U.S. at just 0.99; similar to that of the U.S. at 1.00. In comparison to that of, the United States to the 3 other countries, I can see the United States Average, *PPP* to the U.A.E, Nigeria, and UK, the United States ranks **second** out of the 4 countries, from *2015-2020*. Nigeria comes in last, with an average, *PPP* of 5401.67 from 2015-2020. In contrast, the United Arab Emirates has the **lowest** correlation of PPP to that of the United States with a min-0.72. In conclusion, if I were to make the decision to move to one of the 3 countries, I would live in the United Kingdom as it appears their cost of living is **highest** in coorelation... And I hear the UK has the best biscuit and tea!:) \n"
   ]
  },
  {
   "cell_type": "markdown",
   "metadata": {},
   "source": [
    "# Sources cited #\n",
    "\n",
    "\n",
    "Income per person (GDP,capita, PPP$ infalation-adjusted) Dataset\n",
    "\n",
    "sourcename: https://www.gapminder.org/data/documentation/gd001/\n",
    "https://www.gapminder.org/data/documentation/gd001/\n",
    "\n",
    "\n",
    "https://www.geeksforgeeks.org/python-pandas-dataframe-info/#:~:text=Pandas%20dataframe.info()%20function,the%20dataframe.info()%20function.\n",
    "\n",
    "\n",
    "File formatting\n",
    "https://www.earthdatascience.org/courses/intro-to-earth-data-science/file-formats/use-text-files/format-text-with-markdown-jupyter-notebook/\n",
    "\n",
    "\n",
    "df.iloc to list country names for variables. \n",
    "https://pandas.pydata.org/pandas-docs/stable/reference/api/pandas.DataFrame.loc.html\n",
    "\n",
    "\n",
    "Transpose data frame by flipping country and year.\n",
    "https://www.w3resource.com/pandas/dataframe/dataframe-transpose.php#:~:text=The%20transpose()%20function%20is,as%20columns%20and%20vice%2Dversa.\n",
    "\n",
    "https://stackoverflow.com/questions/20107570/removing-index-column-in-pandas-when-reading-a-csv\n",
    "\n",
    "Plotting Lne Chart and Heatmap\n",
    "https://seaborn.pydata.org/generated/seaborn.heatmap.html\n",
    "https://seaborn.pydata.org/generated/seaborn.lineplot.html\n",
    "\n",
    "Adding legend to heatmap\n",
    "https://seaborn.pydata.org/generated/seaborn.heatmap.html\n",
    "\n",
    "Filtered dataframe to get max value.\n",
    "https://cmdlinetips.com/2018/02/how-to-subset-pandas-dataframe-based-on-values-of-a-column/\n",
    "\n",
    "\n",
    "Formual referenced to calculate the CAGR in the U.S.\n",
    "https://www.investopedia.com/terms/c/cagr.asp"
   ]
  },
  {
   "cell_type": "code",
   "execution_count": 68,
   "metadata": {},
   "outputs": [
    {
     "data": {
      "text/plain": [
       "0"
      ]
     },
     "execution_count": 68,
     "metadata": {},
     "output_type": "execute_result"
    }
   ],
   "source": [
    "from subprocess import call\n",
    "call(['python', '-m', 'nbconvert', 'Investigate_a_Dataset.ipynb'])"
   ]
  },
  {
   "cell_type": "code",
   "execution_count": null,
   "metadata": {},
   "outputs": [],
   "source": []
  }
 ],
 "metadata": {
  "kernelspec": {
   "display_name": "Python 3",
   "language": "python",
   "name": "python3"
  },
  "language_info": {
   "codemirror_mode": {
    "name": "ipython",
    "version": 3
   },
   "file_extension": ".py",
   "mimetype": "text/x-python",
   "name": "python",
   "nbconvert_exporter": "python",
   "pygments_lexer": "ipython3",
   "version": "3.6.3"
  }
 },
 "nbformat": 4,
 "nbformat_minor": 2
}
